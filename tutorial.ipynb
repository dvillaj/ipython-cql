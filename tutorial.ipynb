{
 "metadata": {
  "name": "",
  "signature": "sha256:9cedf138ef45e62799062c2d3b2a246d0d4a6ac6c3b0cdfd6037f363e25daa05"
 },
 "nbformat": 3,
 "nbformat_minor": 0,
 "worksheets": [
  {
   "cells": [
    {
     "cell_type": "code",
     "collapsed": false,
     "input": [
      "%load_ext cql"
     ],
     "language": "python",
     "metadata": {},
     "outputs": [
      {
       "output_type": "stream",
       "stream": "stderr",
       "text": [
        "/Users/jhaddad/.virtualenvs/ipythoncql/lib/python2.7/site-packages/cassandra/cqltypes.py:64: UserWarning: The blist library is not available, so a normal set will be used in place of blist.sortedset for set collection values. You can find the blist library here: https://pypi.python.org/pypi/blist/\n",
        "  \"The blist library is not available, so a normal set will \"\n"
       ]
      }
     ],
     "prompt_number": 1
    },
    {
     "cell_type": "code",
     "collapsed": false,
     "input": [
      "# useful for debugging\n",
      "%reload_ext cql "
     ],
     "language": "python",
     "metadata": {},
     "outputs": [],
     "prompt_number": 2
    },
    {
     "cell_type": "code",
     "collapsed": false,
     "input": [
      "%keyspace tutorial"
     ],
     "language": "python",
     "metadata": {},
     "outputs": [
      {
       "output_type": "stream",
       "stream": "stdout",
       "text": [
        "Using keyspace tutorial\n"
       ]
      }
     ],
     "prompt_number": 3
    },
    {
     "cell_type": "code",
     "collapsed": false,
     "input": [
      "%reload_ext cql \n",
      "%keyspace tutorial\n",
      "%tables"
     ],
     "language": "python",
     "metadata": {},
     "outputs": [
      {
       "output_type": "stream",
       "stream": "stdout",
       "text": [
        "Using keyspace tutorial\n"
       ]
      },
      {
       "html": [
        "<table>\n",
        "    <tr>\n",
        "        <th>name</th>\n",
        "        <th>partition key</th>\n",
        "        <th>clustering key</th>\n",
        "        <th>compaction</th>\n",
        "    </tr>\n",
        "    <tr>\n",
        "        <td>sensor_data</td>\n",
        "        <td>sensor_id</td>\n",
        "        <td>created_at</td>\n",
        "        <td>SizeTieredCompactionStrategy</td>\n",
        "    </tr>\n",
        "    <tr>\n",
        "        <td>crazy_collections</td>\n",
        "        <td>id</td>\n",
        "        <td></td>\n",
        "        <td>SizeTieredCompactionStrategy</td>\n",
        "    </tr>\n",
        "    <tr>\n",
        "        <td>like</td>\n",
        "        <td>photo_id</td>\n",
        "        <td>user_id</td>\n",
        "        <td>SizeTieredCompactionStrategy</td>\n",
        "    </tr>\n",
        "    <tr>\n",
        "        <td>ptest</td>\n",
        "        <td>pk1,pk2</td>\n",
        "        <td></td>\n",
        "        <td>SizeTieredCompactionStrategy</td>\n",
        "    </tr>\n",
        "    <tr>\n",
        "        <td>standard_tweet</td>\n",
        "        <td>tweet_id</td>\n",
        "        <td></td>\n",
        "        <td>SizeTieredCompactionStrategy</td>\n",
        "    </tr>\n",
        "    <tr>\n",
        "        <td>weather_sensor_readings</td>\n",
        "        <td>sensor_id,date_bucket</td>\n",
        "        <td>reading_timestamp</td>\n",
        "        <td>SizeTieredCompactionStrategy</td>\n",
        "    </tr>\n",
        "    <tr>\n",
        "        <td>automobile</td>\n",
        "        <td>manufacturer</td>\n",
        "        <td>year,model</td>\n",
        "        <td>SizeTieredCompactionStrategy</td>\n",
        "    </tr>\n",
        "    <tr>\n",
        "        <td>tweet</td>\n",
        "        <td>tweet_id</td>\n",
        "        <td></td>\n",
        "        <td>SizeTieredCompactionStrategy</td>\n",
        "    </tr>\n",
        "    <tr>\n",
        "        <td>tombstone_mayhem</td>\n",
        "        <td>pk</td>\n",
        "        <td>ts</td>\n",
        "        <td>SizeTieredCompactionStrategy</td>\n",
        "    </tr>\n",
        "    <tr>\n",
        "        <td>ordered_table</td>\n",
        "        <td>id</td>\n",
        "        <td>ck</td>\n",
        "        <td>SizeTieredCompactionStrategy</td>\n",
        "    </tr>\n",
        "    <tr>\n",
        "        <td>user</td>\n",
        "        <td>user_id</td>\n",
        "        <td></td>\n",
        "        <td>LeveledCompactionStrategy</td>\n",
        "    </tr>\n",
        "    <tr>\n",
        "        <td>photo</td>\n",
        "        <td>photo_id</td>\n",
        "        <td></td>\n",
        "        <td>SizeTieredCompactionStrategy</td>\n",
        "    </tr>\n",
        "    <tr>\n",
        "        <td>promoted_tweet</td>\n",
        "        <td>tweet_id</td>\n",
        "        <td></td>\n",
        "        <td>SizeTieredCompactionStrategy</td>\n",
        "    </tr>\n",
        "    <tr>\n",
        "        <td>no_jon_model</td>\n",
        "        <td>id</td>\n",
        "        <td></td>\n",
        "        <td>SizeTieredCompactionStrategy</td>\n",
        "    </tr>\n",
        "    <tr>\n",
        "        <td>sensor</td>\n",
        "        <td>sensor_id</td>\n",
        "        <td></td>\n",
        "        <td>SizeTieredCompactionStrategy</td>\n",
        "    </tr>\n",
        "    <tr>\n",
        "        <td>users</td>\n",
        "        <td>id</td>\n",
        "        <td></td>\n",
        "        <td>SizeTieredCompactionStrategy</td>\n",
        "    </tr>\n",
        "</table>"
       ],
       "metadata": {},
       "output_type": "pyout",
       "prompt_number": 28,
       "text": [
        "<cql.TablePrinter at 0x1158c41d0>"
       ]
      }
     ],
     "prompt_number": 28
    },
    {
     "cell_type": "code",
     "collapsed": false,
     "input": [
      "%reload_ext cql \n",
      "%keyspace tutorial\n",
      "%cql select * from users limit 5;"
     ],
     "language": "python",
     "metadata": {},
     "outputs": [
      {
       "output_type": "stream",
       "stream": "stdout",
       "text": [
        "Using keyspace tutorial\n"
       ]
      },
      {
       "html": [
        "<table>\n",
        "    <tr>\n",
        "        <th>id</th>\n",
        "        <th>favs</th>\n",
        "        <th>given</th>\n",
        "        <th>surname</th>\n",
        "    </tr>\n",
        "    <tr>\n",
        "        <td>jsmith</td>\n",
        "        <td>OrderedDict([(u'band', u'Beatles'), (u'fruit', u'apple')])</td>\n",
        "        <td>John</td>\n",
        "        <td>Smith</td>\n",
        "    </tr>\n",
        "</table>"
       ],
       "metadata": {},
       "output_type": "pyout",
       "prompt_number": 15,
       "text": [
        "+--------+------------------------------------------------------------+-------+---------+\n",
        "|   id   |                            favs                            | given | surname |\n",
        "+--------+------------------------------------------------------------+-------+---------+\n",
        "| jsmith | OrderedDict([(u'band', u'Beatles'), (u'fruit', u'apple')]) |  John |  Smith  |\n",
        "+--------+------------------------------------------------------------+-------+---------+"
       ]
      }
     ],
     "prompt_number": 15
    },
    {
     "cell_type": "code",
     "collapsed": false,
     "input": [
      "%reload_ext cql \n",
      "%keyspace tutorial\n",
      "%trace select * from users limit 5;"
     ],
     "language": "python",
     "metadata": {},
     "outputs": [
      {
       "output_type": "stream",
       "stream": "stdout",
       "text": [
        "Using keyspace tutorial\n"
       ]
      },
      {
       "html": [
        "<table>\n",
        "    <tr>\n",
        "        <th>activity</th>\n",
        "        <th>timestamp</th>\n",
        "        <th>source</th>\n",
        "        <th>source_elapsed</th>\n",
        "    </tr>\n",
        "    <tr>\n",
        "        <td>Parsing select * from users limit 5;</td>\n",
        "        <td>2014-09-26 19:14:28.571000</td>\n",
        "        <td>127.0.0.1</td>\n",
        "        <td>0:00:00.000044</td>\n",
        "    </tr>\n",
        "    <tr>\n",
        "        <td>Preparing statement</td>\n",
        "        <td>2014-09-26 19:14:28.571000</td>\n",
        "        <td>127.0.0.1</td>\n",
        "        <td>0:00:00.000096</td>\n",
        "    </tr>\n",
        "    <tr>\n",
        "        <td>Determining replicas to query</td>\n",
        "        <td>2014-09-26 19:14:28.571000</td>\n",
        "        <td>127.0.0.1</td>\n",
        "        <td>0:00:00.000190</td>\n",
        "    </tr>\n",
        "    <tr>\n",
        "        <td>Executing seq scan across 1 sstables for [min(-9223372036854775808), min(-9223372036854775808)]</td>\n",
        "        <td>2014-09-26 19:14:28.572000</td>\n",
        "        <td>127.0.0.1</td>\n",
        "        <td>0:00:00.001434</td>\n",
        "    </tr>\n",
        "    <tr>\n",
        "        <td>Seeking to partition beginning in data file</td>\n",
        "        <td>2014-09-26 19:14:28.572000</td>\n",
        "        <td>127.0.0.1</td>\n",
        "        <td>0:00:00.001648</td>\n",
        "    </tr>\n",
        "    <tr>\n",
        "        <td>Read 1 live and 0 tombstoned cells</td>\n",
        "        <td>2014-09-26 19:14:28.572000</td>\n",
        "        <td>127.0.0.1</td>\n",
        "        <td>0:00:00.001777</td>\n",
        "    </tr>\n",
        "    <tr>\n",
        "        <td>Scanned 1 rows and matched 1</td>\n",
        "        <td>2014-09-26 19:14:28.572001</td>\n",
        "        <td>127.0.0.1</td>\n",
        "        <td>0:00:00.001831</td>\n",
        "    </tr>\n",
        "</table>"
       ],
       "metadata": {},
       "output_type": "pyout",
       "prompt_number": 10,
       "text": [
        "<cql.Trace at 0x10bcb49d0>"
       ]
      }
     ],
     "prompt_number": 10
    },
    {
     "cell_type": "code",
     "collapsed": false,
     "input": [
      "%matplotlib inline \n",
      "%reload_ext cql\n",
      "\n",
      "%keyspace tutorial\n",
      "%histogram select reading from sensor_data limit 100;"
     ],
     "language": "python",
     "metadata": {},
     "outputs": [
      {
       "output_type": "stream",
       "stream": "stdout",
       "text": [
        "Using keyspace tutorial\n"
       ]
      },
      {
       "metadata": {},
       "output_type": "display_data",
       "png": "[encoded data removed]",
       "text": [
        "<matplotlib.figure.Figure at 0x11a3f78d0>"
       ]
      }
     ],
     "prompt_number": 16
    },
    {
     "cell_type": "code",
     "collapsed": false,
     "input": [],
     "language": "python",
     "metadata": {},
     "outputs": [
      {
       "output_type": "stream",
       "stream": "stdout",
       "text": [
        "Using matplotlib backend: MacOSX\n"
       ]
      }
     ],
     "prompt_number": 4
    },
    {
     "cell_type": "code",
     "collapsed": false,
     "input": [],
     "language": "python",
     "metadata": {},
     "outputs": []
    }
   ],
   "metadata": {}
  }
 ]
}