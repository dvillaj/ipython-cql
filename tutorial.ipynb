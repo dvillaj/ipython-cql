{
 "metadata": {
  "name": "",
  "signature": "sha256:50b3fa3bbfce530d1ba608ac0c2e5a2a26e315fa6e69e1aa68e344f25bf32084"
 },
 "nbformat": 3,
 "nbformat_minor": 0,
 "worksheets": [
  {
   "cells": [
    {
     "cell_type": "markdown",
     "metadata": {
      "slideshow": {
       "slide_type": "-"
      }
     },
     "source": [
      "First we load our extension and configure matplotlib to display graphs inline.\n",
      "\n",
      "Before using this notebook, be sure to run:\n",
      "\n",
      "    cqlsh -f setup_tutorial.cql"
     ]
    },
    {
     "cell_type": "code",
     "collapsed": false,
     "input": [
      "%load_ext cql\n",
      "%reload_ext cql\n",
      "%matplotlib inline\n",
      "%keyspace tutorial"
     ],
     "language": "python",
     "metadata": {},
     "outputs": []
    },
    {
     "cell_type": "code",
     "collapsed": false,
     "input": [
      "%tables"
     ],
     "language": "python",
     "metadata": {},
     "outputs": []
    },
    {
     "cell_type": "code",
     "collapsed": false,
     "input": [
      "%desc sensor_data"
     ],
     "language": "python",
     "metadata": {},
     "outputs": []
    },
    {
     "cell_type": "code",
     "collapsed": false,
     "input": [
      "%%cql\n",
      "CREATE TABLE user (\n",
      "    user_id uuid primary key,\n",
      "    name text\n",
      ");"
     ],
     "language": "python",
     "metadata": {},
     "outputs": []
    },
    {
     "cell_type": "code",
     "collapsed": false,
     "input": [
      "%cql insert into user (user_id, name) values (cf76125b-9353-4df1-a208-319885d0b888, 'Jon')\n",
      "%cql select * from user;"
     ],
     "language": "python",
     "metadata": {},
     "outputs": []
    },
    {
     "cell_type": "code",
     "collapsed": false,
     "input": [
      "%cql truncate sensor_data;\n",
      "%cql INSERT INTO sensor_data (sensor_id, date_created, reading) values (cf76125b-9353-4df1-a208-319885d0b888, now(), 1)\n",
      "%cql INSERT INTO sensor_data (sensor_id, date_created, reading) values (cf76125b-9353-4df1-a208-319885d0b888, now(), 3)\n",
      "%cql INSERT INTO sensor_data (sensor_id, date_created, reading) values (cf76125b-9353-4df1-a208-319885d0b888, now(), 10)\n",
      "%cql select * from sensor_data where sensor_id = cf76125b-9353-4df1-a208-319885d0b888;"
     ],
     "language": "python",
     "metadata": {},
     "outputs": []
    },
    {
     "cell_type": "code",
     "collapsed": false,
     "input": [
      "%trace select reading from sensor_data where sensor_id = cf76125b-9353-4df1-a208-319885d0b888;"
     ],
     "language": "python",
     "metadata": {},
     "outputs": []
    },
    {
     "cell_type": "code",
     "collapsed": false,
     "input": [
      "%%cql\n",
      "select *\n",
      "from \n",
      "sensor_data \n",
      "where sensor_id = cf76125b-9353-4df1-a208-319885d0b888;"
     ],
     "language": "python",
     "metadata": {},
     "outputs": []
    },
    {
     "cell_type": "code",
     "collapsed": false,
     "input": [
      "%%histogram \n",
      "select reading \n",
      "from \n",
      "sensor_data \n",
      "where sensor_id = cf76125b-9353-4df1-a208-319885d0b888;"
     ],
     "language": "python",
     "metadata": {},
     "outputs": []
    },
    {
     "cell_type": "markdown",
     "metadata": {},
     "source": [
      "This notebook is available in the repo!"
     ]
    }
   ],
   "metadata": {}
  }
 ]
}