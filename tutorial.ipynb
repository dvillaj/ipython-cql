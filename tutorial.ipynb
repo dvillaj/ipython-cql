{
 "metadata": {
  "name": "",
  "signature": "sha256:5adec0766d4de0270f499e984b9a7b83cbc9bc376182991e551f44abd38d6571"
 },
 "nbformat": 3,
 "nbformat_minor": 0,
 "worksheets": [
  {
   "cells": [
    {
     "cell_type": "code",
     "collapsed": false,
     "input": [
      "%load_ext cql"
     ],
     "language": "python",
     "metadata": {},
     "outputs": [
      {
       "output_type": "stream",
       "stream": "stderr",
       "text": [
        "/Users/jhaddad/.virtualenvs/ipythoncql/lib/python2.7/site-packages/cassandra/cqltypes.py:64: UserWarning: The blist library is not available, so a normal set will be used in place of blist.sortedset for set collection values. You can find the blist library here: https://pypi.python.org/pypi/blist/\n",
        "  \"The blist library is not available, so a normal set will \"\n"
       ]
      }
     ],
     "prompt_number": 1
    },
    {
     "cell_type": "code",
     "collapsed": false,
     "input": [
      "# useful for debugging\n",
      "%reload_ext cql "
     ],
     "language": "python",
     "metadata": {},
     "outputs": [],
     "prompt_number": 8
    },
    {
     "cell_type": "code",
     "collapsed": false,
     "input": [
      "%keyspace tutorial"
     ],
     "language": "python",
     "metadata": {},
     "outputs": [
      {
       "output_type": "stream",
       "stream": "stdout",
       "text": [
        "Using keyspace tutorial\n"
       ]
      }
     ],
     "prompt_number": 5
    },
    {
     "cell_type": "code",
     "collapsed": false,
     "input": [
      "%tables"
     ],
     "language": "python",
     "metadata": {},
     "outputs": [
      {
       "metadata": {},
       "output_type": "pyout",
       "prompt_number": 6,
       "text": [
        "[u'sensor_data',\n",
        " u'crazy_collections',\n",
        " u'like',\n",
        " u'ptest',\n",
        " u'standard_tweet',\n",
        " u'weather_sensor_readings',\n",
        " u'automobile',\n",
        " u'tweet',\n",
        " u'tombstone_mayhem',\n",
        " u'ordered_table',\n",
        " u'user',\n",
        " u'photo',\n",
        " u'promoted_tweet',\n",
        " u'no_jon_model',\n",
        " u'sensor',\n",
        " u'users']"
       ]
      }
     ],
     "prompt_number": 6
    },
    {
     "cell_type": "code",
     "collapsed": false,
     "input": [
      "%reload_ext cql \n",
      "%keyspace tutorial\n",
      "%cql select * from users limit 5;"
     ],
     "language": "python",
     "metadata": {},
     "outputs": [
      {
       "html": [
        "<table>\n",
        "    <tr>\n",
        "        <th>id</th>\n",
        "        <th>favs</th>\n",
        "        <th>given</th>\n",
        "        <th>surname</th>\n",
        "    </tr>\n",
        "    <tr>\n",
        "        <td>jsmith</td>\n",
        "        <td>OrderedDict([(u'band', u'Beatles'), (u'fruit', u'apple')])</td>\n",
        "        <td>John</td>\n",
        "        <td>Smith</td>\n",
        "    </tr>\n",
        "</table>"
       ],
       "metadata": {},
       "output_type": "pyout",
       "prompt_number": 20,
       "text": [
        "<cql.CQLResult at 0x116766a50>"
       ]
      }
     ],
     "prompt_number": 20
    },
    {
     "cell_type": "code",
     "collapsed": false,
     "input": [],
     "language": "python",
     "metadata": {},
     "outputs": []
    }
   ],
   "metadata": {}
  }
 ]
}